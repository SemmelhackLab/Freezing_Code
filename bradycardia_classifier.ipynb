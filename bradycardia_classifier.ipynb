{
 "cells": [
  {
   "cell_type": "code",
   "execution_count": null,
   "id": "79fb432f",
   "metadata": {},
   "outputs": [],
   "source": [
    "import pandas as pd\n",
    "import os, glob\n",
    "import matplotlib.pyplot as plt\n",
    "import numpy as np\n",
    "from sklearn.model_selection import train_test_split\n",
    "from sklearn.metrics import classification_report,confusion_matrix,accuracy_score,f1_score\n",
    "from numpy import mean\n",
    "from numpy import std\n",
    "from sklearn.datasets import make_classification\n",
    "from sklearn.model_selection import RepeatedKFold,KFold\n",
    "from sklearn.model_selection import cross_val_score,cross_validate\n",
    "from sklearn.neighbors import KNeighborsClassifier\n",
    "from sklearn.model_selection import GridSearchCV\n",
    "from scipy.spatial import distance"
   ]
  },
  {
   "cell_type": "code",
   "execution_count": null,
   "id": "4d95b7f0",
   "metadata": {},
   "outputs": [],
   "source": [
    "import sys\n",
    "import collections\n",
    "import itertools\n",
    "import numpy as np\n",
    "import matplotlib.pyplot as plt\n",
    "from scipy.stats import mode\n",
    "from scipy.spatial.distance import squareform\n",
    "\n",
    "plt.style.use('bmh')\n",
    "%matplotlib inline\n",
    "\n",
    "try:\n",
    "    from IPython.display import clear_output\n",
    "    have_ipython = True\n",
    "except ImportError:\n",
    "    have_ipython = False\n",
    "\n",
    "class KnnDtw(object):\n",
    "    \"\"\"K-nearest neighbor classifier using dynamic time warping\n",
    "    as the distance measure between pairs of time series arrays\n",
    "    \n",
    "    Arguments\n",
    "    ---------\n",
    "    n_neighbors : int, optional (default = 5)\n",
    "        Number of neighbors to use by default for KNN\n",
    "        \n",
    "    max_warping_window : int, optional (default = infinity)\n",
    "        Maximum warping window allowed by the DTW dynamic\n",
    "        programming function\n",
    "            \n",
    "    subsample_step : int, optional (default = 1)\n",
    "        Step size for the timeseries array. By setting subsample_step = 2,\n",
    "        the timeseries length will be reduced by 50% because every second\n",
    "        item is skipped. Implemented by x[:, ::subsample_step]\n",
    "    \"\"\"\n",
    "    \n",
    "    def __init__(self, n_neighbors=5, max_warping_window=10000, subsample_step=1):\n",
    "        self.n_neighbors = n_neighbors\n",
    "        self.max_warping_window = max_warping_window\n",
    "        self.subsample_step = subsample_step\n",
    "    \n",
    "    def fit(self, x, l):\n",
    "        \"\"\"Fit the model using x as training data and l as class labels\n",
    "        \n",
    "        Arguments\n",
    "        ---------\n",
    "        x : array of shape [n_samples, n_timepoints]\n",
    "            Training data set for input into KNN classifer\n",
    "            \n",
    "        l : array of shape [n_samples]\n",
    "            Training labels for input into KNN classifier\n",
    "        \"\"\"\n",
    "        \n",
    "        self.x = x\n",
    "        self.l = l\n",
    "        \n",
    "    def _dtw_distance(self, ts_a, ts_b, d = lambda x,y: abs(x-y)):\n",
    "        \"\"\"Returns the DTW similarity distance between two 2-D\n",
    "        timeseries numpy arrays.\n",
    "\n",
    "        Arguments\n",
    "        ---------\n",
    "        ts_a, ts_b : array of shape [n_samples, n_timepoints]\n",
    "            Two arrays containing n_samples of timeseries data\n",
    "            whose DTW distance between each sample of A and B\n",
    "            will be compared\n",
    "        \n",
    "        d : DistanceMetric object (default = abs(x-y))\n",
    "            the distance measure used for A_i - B_j in the\n",
    "            DTW dynamic programming function\n",
    "        \n",
    "        Returns\n",
    "        -------\n",
    "        DTW distance between A and B\n",
    "        \"\"\"\n",
    "\n",
    "        # Create cost matrix via broadcasting with large int\n",
    "        ts_a, ts_b = np.array(ts_a), np.array(ts_b)\n",
    "        M, N = len(ts_a), len(ts_b)\n",
    "        cost = sys.maxsize * np.ones((M, N))\n",
    "\n",
    "        # Initialize the first row and column\n",
    "        cost[0, 0] = d(ts_a[0], ts_b[0])\n",
    "        for i in range(1, M):\n",
    "            cost[i, 0] = cost[i-1, 0] + d(ts_a[i], ts_b[0])\n",
    "\n",
    "        for j in range(1, N):\n",
    "            cost[0, j] = cost[0, j-1] + d(ts_a[0], ts_b[j])\n",
    "\n",
    "        # Populate rest of cost matrix within window\n",
    "        for i in range(1, M):\n",
    "            for j in range(max(1, i - self.max_warping_window),\n",
    "                            min(N, i + self.max_warping_window)):\n",
    "                choices = cost[i - 1, j - 1], cost[i, j-1], cost[i-1, j]\n",
    "                cost[i, j] = min(choices) + d(ts_a[i], ts_b[j])\n",
    "\n",
    "        # Return DTW distance given window \n",
    "        return cost[-1, -1]\n",
    "    \n",
    "    def _dist_matrix(self, x, y):\n",
    "        \"\"\"Computes the M x N distance matrix between the training\n",
    "        dataset and testing dataset (y) using the DTW distance measure\n",
    "        \n",
    "        Arguments\n",
    "        ---------\n",
    "        x : array of shape [n_samples, n_timepoints]\n",
    "        \n",
    "        y : array of shape [n_samples, n_timepoints]\n",
    "        \n",
    "        Returns\n",
    "        -------\n",
    "        Distance matrix between each item of x and y with\n",
    "            shape [training_n_samples, testing_n_samples]\n",
    "        \"\"\"\n",
    "        \n",
    "        # Compute the distance matrix        \n",
    "        dm_count = 0\n",
    "        \n",
    "        # Compute condensed distance matrix (upper triangle) of pairwise dtw distances\n",
    "        # when x and y are the same array\n",
    "        if(np.array_equal(x, y)):\n",
    "            x_s = np.shape(x)\n",
    "            dm = np.zeros((x_s[0] * (x_s[0] - 1)) // 2, dtype=np.double)\n",
    "            \n",
    "            p = ProgressBar(shape(dm)[0])\n",
    "            \n",
    "            for i in range(0, x_s[0] - 1):\n",
    "                for j in range(i + 1, x_s[0]):\n",
    "                    dm[dm_count] = self._dtw_distance(x[i, ::self.subsample_step],\n",
    "                                                      y[j, ::self.subsample_step])\n",
    "                    \n",
    "                    dm_count += 1\n",
    "                    if dm_count%100==0:\n",
    "                        p.animate(dm_count)\n",
    "            \n",
    "            # Convert to squareform\n",
    "            dm = squareform(dm)\n",
    "            return dm\n",
    "        \n",
    "        # Compute full distance matrix of dtw distnces between x and y\n",
    "        else:\n",
    "            x_s = np.shape(x)\n",
    "            y_s = np.shape(y)\n",
    "            dm = np.zeros((x_s[0], y_s[0])) \n",
    "            dm_size = x_s[0]*y_s[0]\n",
    "            \n",
    "            p = ProgressBar(dm_size)\n",
    "        \n",
    "            for i in range(0, x_s[0]):\n",
    "                for j in range(0, y_s[0]):\n",
    "                    dm[i, j] = self._dtw_distance(x[i, ::self.subsample_step],\n",
    "                                                  y[j, ::self.subsample_step])\n",
    "                    # Update progress bar\n",
    "                    dm_count += 1\n",
    "                    if dm_count%100==0:\n",
    "                        p.animate(dm_count)\n",
    "        \n",
    "            return dm\n",
    "        \n",
    "    def predict(self, x):\n",
    "        \"\"\"Predict the class labels or probability estimates for \n",
    "        the provided data\n",
    "\n",
    "        Arguments\n",
    "        ---------\n",
    "          x : array of shape [n_samples, n_timepoints]\n",
    "              Array containing the testing data set to be classified\n",
    "          \n",
    "        Returns\n",
    "        -------\n",
    "          2 arrays representing:\n",
    "              (1) the predicted class labels \n",
    "              (2) the knn label count probability\n",
    "        \"\"\"\n",
    "        \n",
    "        dm = self._dist_matrix(x, self.x)\n",
    "\n",
    "        # Identify the k nearest neighbors\n",
    "        knn_idx = dm.argsort()[:, :self.n_neighbors]\n",
    "\n",
    "        # Identify k nearest labels\n",
    "        knn_labels = self.l[knn_idx]\n",
    "        \n",
    "        # Model Label\n",
    "        mode_data = mode(knn_labels, axis=1)\n",
    "        mode_label = mode_data[0]\n",
    "        mode_proba = mode_data[1]/self.n_neighbors\n",
    "\n",
    "        return mode_label.ravel(), mode_proba.ravel()\n",
    "\n",
    "class ProgressBar:\n",
    "    \"\"\"This progress bar was taken from PYMC\n",
    "    \"\"\"\n",
    "    def __init__(self, iterations):\n",
    "        self.iterations = iterations\n",
    "        self.prog_bar = '[]'\n",
    "        self.fill_char = '*'\n",
    "        self.width = 40\n",
    "        self.__update_amount(0)\n",
    "        if have_ipython:\n",
    "            self.animate = self.animate_ipython\n",
    "        else:\n",
    "            self.animate = self.animate_noipython\n",
    "\n",
    "    def animate_ipython(self, iter):\n",
    "        print('\\r', self)\n",
    "        sys.stdout.flush()\n",
    "        self.update_iteration(iter + 1)\n",
    "\n",
    "    def update_iteration(self, elapsed_iter):\n",
    "        self.__update_amount((elapsed_iter / float(self.iterations)) * 100.0)\n",
    "        self.prog_bar += '  %d of %s complete' % (elapsed_iter, self.iterations)\n",
    "\n",
    "    def __update_amount(self, new_amount):\n",
    "        percent_done = int(round((new_amount / 100.0) * 100.0))\n",
    "        all_full = self.width - 2\n",
    "        num_hashes = int(round((percent_done / 100.0) * all_full))\n",
    "        self.prog_bar = '[' + self.fill_char * num_hashes + ' ' * (all_full - num_hashes) + ']'\n",
    "        pct_place = (len(self.prog_bar) // 2) - len(str(percent_done))\n",
    "        pct_string = '%d%%' % percent_done\n",
    "        self.prog_bar = self.prog_bar[0:pct_place] + \\\n",
    "            (pct_string + self.prog_bar[pct_place + len(pct_string):])\n",
    "\n",
    "    def __str__(self):\n",
    "        return str(self.prog_bar)"
   ]
  },
  {
   "cell_type": "code",
   "execution_count": null,
   "id": "a0772a1e",
   "metadata": {},
   "outputs": [],
   "source": [
    "# organized function\n",
    "\n",
    "def bradycardia_detection(input_trace_array,training_X_dir,training_Y_dir,n_neighbors0=7, max_warping_window0=40):\n",
    "    \"\"\"Predict whether the heart rate are bradycardia for the provided data\n",
    "\n",
    "    Arguments\n",
    "    ---------\n",
    "      x : array of shape [n_samples, n_timepoints]\n",
    "          Array containing the testing data set to be classified\n",
    "\n",
    "    Returns\n",
    "    -------\n",
    "       bradycardia(1) or not(0)\n",
    "       \n",
    "    \"\"\"\n",
    "    \n",
    "    X10 = np.load(training_X_dir)\n",
    "    Y10 = np.load(training_Y_dir)\n",
    "    \n",
    "    clf = KnnDtw(n_neighbors=n_neighbors0, max_warping_window=40)\n",
    "    clf.fit(X10, Y10)\n",
    "    \n",
    "    trace_list = []\n",
    "    for t in range(0,input_trace_array.shape[0]):\n",
    "        temp_trace = input_trace_array[t,:]/np.mean(input_trace_array[t,300:899])\n",
    "        trace_list.append(temp_trace)\n",
    "    npy_trace_list = np.array(trace_list)[:,800:1200]\n",
    "        \n",
    "    dectection_result, proba = clf.predict(npy_trace_list)\n",
    "\n",
    "    return dectection_result"
   ]
  },
  {
   "cell_type": "code",
   "execution_count": null,
   "id": "530a9d67",
   "metadata": {},
   "outputs": [],
   "source": [
    "test = bradycardia_detection(np.array(x_test),'training_set_X.npy','training_set_Y.npy',n_neighbors0=7, max_warping_window0=40)"
   ]
  },
  {
   "cell_type": "code",
   "execution_count": null,
   "id": "ee961862",
   "metadata": {},
   "outputs": [],
   "source": []
  },
  {
   "cell_type": "code",
   "execution_count": null,
   "id": "afc1c5a2",
   "metadata": {},
   "outputs": [],
   "source": []
  },
  {
   "cell_type": "code",
   "execution_count": null,
   "id": "8283e747",
   "metadata": {},
   "outputs": [],
   "source": []
  },
  {
   "cell_type": "code",
   "execution_count": null,
   "id": "268b21f5",
   "metadata": {},
   "outputs": [],
   "source": []
  },
  {
   "cell_type": "code",
   "execution_count": null,
   "id": "bf4f3cf7",
   "metadata": {},
   "outputs": [],
   "source": [
    "# cross validation\n",
    "\n",
    "def cv_knndtw(X,Y,n_neighbors0=5, max_warping_window0=40,k=5,repeats=1):\n",
    "    list_f1score = []\n",
    "    list_accuracy = []\n",
    "    for rep in range(0,repeats):\n",
    "        KF = KFold(n_splits=k)\n",
    "        for train_index, test_index in KF.split(X):\n",
    "            X_train, X_test = X[train_index], X[test_index]\n",
    "            Y_train, Y_test = Y[train_index], Y[test_index]\n",
    "            clf_knndtw = KnnDtw(n_neighbors=n_neighbors0, max_warping_window=max_warping_window0)\n",
    "            clf_knndtw.fit(np.array(X_train), np.array(Y_train))\n",
    "            label, proba = clf_knndtw.predict(np.array(X_test))\n",
    "            list_f1score.append(f1_score(Y_test,label))\n",
    "            list_accuracy.append(accuracy_score(Y_test,label))\n",
    "    return list_f1score,list_accuracy"
   ]
  },
  {
   "cell_type": "code",
   "execution_count": null,
   "id": "aa9d0fa4",
   "metadata": {},
   "outputs": [],
   "source": []
  },
  {
   "cell_type": "code",
   "execution_count": null,
   "id": "995cea82",
   "metadata": {},
   "outputs": [],
   "source": []
  },
  {
   "cell_type": "code",
   "execution_count": null,
   "id": "d649ee03",
   "metadata": {},
   "outputs": [],
   "source": []
  },
  {
   "cell_type": "code",
   "execution_count": null,
   "id": "4f2d4649",
   "metadata": {},
   "outputs": [],
   "source": []
  },
  {
   "cell_type": "code",
   "execution_count": null,
   "id": "5451eea5",
   "metadata": {
    "scrolled": true
   },
   "outputs": [],
   "source": [
    "dataset_list = ['HSA_Luminance_7','LCr_UV_HSA_Lum_Low_1','LCr_UV_HSA_Luminance_4','LCr_UV_HSA_Luminance_5','size_and_speed_raw','behavior_color']\n",
    "X = []\n",
    "Y = []\n",
    "for dataset in dataset_list:\n",
    "    trainingset_list = glob.glob('F:\\\\'+dataset+'\\\\*\\\\behavior\\\\*\\\\training_dataset*')\n",
    "    for trainingset_dir in trainingset_list:\n",
    "        trainingset_name = trainingset_dir.split('\\\\')[-1]\n",
    "        temp_main_dir = trainingset_dir[:-len(trainingset_name)]\n",
    "        if trainingset_name[-21:-13] =='20230312':\n",
    "            bradyinfo_dir = temp_main_dir+'Bradyinfo_'+trainingset_name[-21:-4]+'_new.xlsx'\n",
    "        else:\n",
    "            bradyinfo_dir = temp_main_dir+'Bradyinfo_'+trainingset_name[-21:-4]+'.xlsx'\n",
    "#         print(bradyinfo_dir)\n",
    "        temp_heart = pd.read_excel(bradyinfo_dir,sheet_name = 'heart_rate_trace')\n",
    "        temp_training_csv = pd.read_csv(trainingset_dir)\n",
    "        if temp_training_csv.shape[0]>0:\n",
    "            for i in range(0,temp_training_csv.shape[0]):\n",
    "                trial_idx = temp_training_csv['trial index'][i]\n",
    "                Y.append(int(temp_training_csv.Manual_Annotation[i]))\n",
    "                \n",
    "                temp_heart_i = temp_heart.iloc[trial_idx-1,:]/np.mean(temp_heart.iloc[trial_idx-1,300:899])\n",
    "                fig, (ax1) = plt.subplots(1, 1, figsize=(16, 6), sharex=True, sharey=True)\n",
    "\n",
    "                plt.plot(temp_heart_i,linewidth = 3,c = 'b')\n",
    "                x1 = np.arange(900,1000)\n",
    "                plt.fill_between(x1,2,-2,linewidth = 1,color = 'violet',alpha = 0.3)\n",
    "                plt.ylim(0,2)\n",
    "                plt.axhline(y = 0.8,xmin = 0, xmax =1 , alpha = 0.4)\n",
    "                plt.xticks([0,900,1000,1100,1200,1300])  # Set label locations.\n",
    "                plt.ylabel('Normalized Heart Rate')\n",
    "                plt.xlabel('frame')\n",
    "                plt.title(trainingset_name[-21:-4]+' trial'+str(trial_idx)+', '+str(temp_training_csv.Manual_Annotation[i]))\n",
    "                plt.show()\n",
    "                X.append(temp_heart_i)"
   ]
  },
  {
   "cell_type": "code",
   "execution_count": null,
   "id": "ada9a14d",
   "metadata": {
    "scrolled": true
   },
   "outputs": [],
   "source": [
    "# get some trials examples for fig sup2\n",
    "dataset_list = ['HSA_Luminance_7','LCr_UV_HSA_Lum_Low_1','LCr_UV_HSA_Luminance_4','LCr_UV_HSA_Luminance_5','size_and_speed_raw','behavior_color']\n",
    "X = []\n",
    "Y = []\n",
    "for dataset in dataset_list:\n",
    "    trainingset_list = glob.glob('F:\\\\'+dataset+'\\\\*\\\\behavior\\\\*\\\\training_dataset*')\n",
    "    for trainingset_dir in trainingset_list:\n",
    "        trainingset_name = trainingset_dir.split('\\\\')[-1]\n",
    "        temp_main_dir = trainingset_dir[:-len(trainingset_name)]\n",
    "        if trainingset_name[-21:-13] =='20230312':\n",
    "            bradyinfo_dir = temp_main_dir+'Bradyinfo_'+trainingset_name[-21:-4]+'_new.xlsx'\n",
    "        else:\n",
    "            bradyinfo_dir = temp_main_dir+'Bradyinfo_'+trainingset_name[-21:-4]+'.xlsx'\n",
    "#         print(bradyinfo_dir)\n",
    "        temp_heart = pd.read_excel(bradyinfo_dir,sheet_name = 'heart_rate_trace')\n",
    "        temp_training_csv = pd.read_csv(trainingset_dir)\n",
    "        if temp_training_csv.shape[0]>0:\n",
    "            for i in range(0,temp_training_csv.shape[0]):\n",
    "                trial_idx = temp_training_csv['trial index'][i]\n",
    "                Y.append(int(temp_training_csv.Manual_Annotation[i]))\n",
    "                \n",
    "                temp_heart_i = temp_heart.iloc[trial_idx-1,:]/np.mean(temp_heart.iloc[trial_idx-1,300:899])\n",
    "                fig, (ax1) = plt.subplots(1, 1, figsize=(13, 6), sharex=True, sharey=True,dpi = 800)\n",
    "                if temp_training_csv.Manual_Annotation[i] == True:\n",
    "                    plt.plot(temp_heart_i,linewidth = 6,c = 'dodgerblue')\n",
    "                if temp_training_csv.Manual_Annotation[i] == False:\n",
    "                    plt.plot(temp_heart_i,linewidth = 6,c = 'goldenrod') \n",
    "                x1 = np.arange(900,1000)\n",
    "                plt.fill_between(x1,2,-2,linewidth = 1,color = 'violet',alpha = 0.3)\n",
    "                plt.ylim(0.7,1.2)\n",
    "                \n",
    "#                 plt.axhline(y = 0.8,xmin = 0, xmax =1 , alpha = 0.4)\n",
    "                plt.xticks([0,900,1000,1100,1200,1300])  # Set label locations.\n",
    "                plt.ylabel('Normalized Heart Rate')\n",
    "                plt.xlabel('frame')\n",
    "                print(str(temp_training_csv.Manual_Annotation[i]))\n",
    "#                 ax1.axvline(x = 800,ymin = 0.1,ymax = 0.9,color = 'grey',alpha = 0.4,linewidth =2)\n",
    "#                 ax1.axvline(x = 1200,ymin = 0.1,ymax = 0.9,color = 'grey',alpha = 0.4,linewidth =2)\n",
    "#                 ax1.axhline(y = 1.8,xmin = 6/11,xmax = 10/11,color = 'grey',alpha = 0.4,linewidth =2)\n",
    "#                 ax1.axhline(y = 0.2,xmin = 6/11,xmax = 10/11,color = 'grey',alpha = 0.4,linewidth =2)\n",
    "#                 plt.title(trainingset_name[-21:-4]+' trial'+str(trial_idx)+', '+str(temp_training_csv.Manual_Annotation[i]))\n",
    "                plt.axis('off')\n",
    "                plt.xlim(400,1300)\n",
    "                plt.show()\n",
    "                X.append(temp_heart_i)"
   ]
  },
  {
   "cell_type": "code",
   "execution_count": null,
   "id": "a0c28ea1",
   "metadata": {
    "scrolled": true
   },
   "outputs": [],
   "source": [
    "# get some trials examples for fig sup2\n",
    "dataset_list = ['HSA_Luminance_7','LCr_UV_HSA_Lum_Low_1','LCr_UV_HSA_Luminance_4','LCr_UV_HSA_Luminance_5','size_and_speed_raw','behavior_color']\n",
    "X = []\n",
    "Y = []\n",
    "for dataset in dataset_list:\n",
    "    trainingset_list = glob.glob('F:\\\\'+dataset+'\\\\*\\\\behavior\\\\*\\\\training_dataset*')\n",
    "    for trainingset_dir in trainingset_list:\n",
    "        trainingset_name = trainingset_dir.split('\\\\')[-1]\n",
    "        temp_main_dir = trainingset_dir[:-len(trainingset_name)]\n",
    "        if trainingset_name[-21:-13] =='20230312':\n",
    "            bradyinfo_dir = temp_main_dir+'Bradyinfo_'+trainingset_name[-21:-4]+'_new.xlsx'\n",
    "        else:\n",
    "            bradyinfo_dir = temp_main_dir+'Bradyinfo_'+trainingset_name[-21:-4]+'.xlsx'\n",
    "#         print(bradyinfo_dir)\n",
    "        temp_heart = pd.read_excel(bradyinfo_dir,sheet_name = 'heart_rate_trace')\n",
    "        temp_training_csv = pd.read_csv(trainingset_dir)\n",
    "        if temp_training_csv.shape[0]>0:\n",
    "            for i in range(0,temp_training_csv.shape[0]):\n",
    "                trial_idx = temp_training_csv['trial index'][i]\n",
    "                Y.append(int(temp_training_csv.Manual_Annotation[i]))\n",
    "                \n",
    "                temp_heart_i = temp_heart.iloc[trial_idx-1,:]/np.mean(temp_heart.iloc[trial_idx-1,300:899])\n",
    "                fig, (ax1) = plt.subplots(1, 1, figsize=(16, 6), sharex=True, sharey=True,dpi = 800)\n",
    "                plt.plot(temp_heart_i,linewidth = 6,c = 'coral') \n",
    "                x1 = np.arange(900,1000)\n",
    "                plt.fill_between(x1,2,-2,linewidth = 1,color = 'violet',alpha = 0.3)\n",
    "                plt.ylim(0,2)\n",
    "                \n",
    "#                 plt.axhline(y = 0.8,xmin = 0, xmax =1 , alpha = 0.4)\n",
    "                plt.xticks([0,900,1000,1100,1200,1300])  # Set label locations.\n",
    "                plt.ylabel('Normalized Heart Rate')\n",
    "                plt.xlabel('frame')\n",
    "                print(str(temp_training_csv.Manual_Annotation[i]))\n",
    "#                 ax1.axvline(x = 800,ymin = 0.1,ymax = 0.9,color = 'grey',alpha = 0.4,linewidth =2)\n",
    "#                 ax1.axvline(x = 1200,ymin = 0.1,ymax = 0.9,color = 'grey',alpha = 0.4,linewidth =2)\n",
    "#                 ax1.axhline(y = 1.8,xmin = 6/11,xmax = 10/11,color = 'grey',alpha = 0.4,linewidth =2)\n",
    "#                 ax1.axhline(y = 0.2,xmin = 6/11,xmax = 10/11,color = 'grey',alpha = 0.4,linewidth =2)\n",
    "#                 plt.title(trainingset_name[-21:-4]+' trial'+str(trial_idx)+', '+str(temp_training_csv.Manual_Annotation[i]))\n",
    "                plt.axis('off')\n",
    "                plt.xlim(200,1300)\n",
    "                plt.show()\n",
    "                X.append(temp_heart_i)"
   ]
  },
  {
   "cell_type": "code",
   "execution_count": null,
   "id": "11dd1587",
   "metadata": {},
   "outputs": [],
   "source": [
    "x_train, x_test, y_train, y_test = train_test_split(X, Y, test_size = 0.2)"
   ]
  },
  {
   "cell_type": "code",
   "execution_count": null,
   "id": "837d47db",
   "metadata": {
    "scrolled": true
   },
   "outputs": [],
   "source": [
    "# test 1\n",
    "m1 = KnnDtw(n_neighbors=5, max_warping_window=10)\n",
    "m1.fit(np.array(x_train), np.array(y_train))\n",
    "label1, proba1 = m1.predict(np.array(x_test))\n",
    "\n",
    "print(classification_report(y_test,label1))\n",
    "print(confusion_matrix(y_test, label1))"
   ]
  },
  {
   "cell_type": "code",
   "execution_count": null,
   "id": "92278ceb",
   "metadata": {},
   "outputs": [],
   "source": [
    "# test2\n",
    "x_train2_cropped = np.array(x_train)[:,800:1200]\n",
    "x_test2_cropped = np.array(x_test)[:,800:1200]\n",
    "\n",
    "m2 = KnnDtw(n_neighbors=5, max_warping_window=10)\n",
    "m2.fit(np.array(x_train2_cropped), np.array(y_train))\n",
    "label2, proba2 = m2.predict(np.array(x_test2_cropped))\n",
    "print(classification_report(y_test,label2))\n",
    "print(confusion_matrix(y_test, label2))"
   ]
  },
  {
   "cell_type": "code",
   "execution_count": null,
   "id": "1af475ff",
   "metadata": {},
   "outputs": [],
   "source": []
  },
  {
   "cell_type": "code",
   "execution_count": null,
   "id": "c035ed66",
   "metadata": {
    "scrolled": true
   },
   "outputs": [],
   "source": [
    "# test 3\n",
    "x_train3_cropped = np.array(x_train)[:,800:1200]\n",
    "x_test3_cropped = np.array(x_test)[:,800:1200]\n",
    "\n",
    "m3 = KnnDtw(n_neighbors=5, max_warping_window=100)\n",
    "m3.fit(np.array(x_train3_cropped), np.array(y_train))\n",
    "label3, proba3 = m3.predict(np.array(x_test3_cropped))\n",
    "print(classification_report(y_test,label3))\n",
    "print(confusion_matrix(y_test, label3))"
   ]
  },
  {
   "cell_type": "code",
   "execution_count": null,
   "id": "a4090ef4",
   "metadata": {},
   "outputs": [],
   "source": []
  },
  {
   "cell_type": "code",
   "execution_count": null,
   "id": "8b2c1598",
   "metadata": {
    "scrolled": true
   },
   "outputs": [],
   "source": [
    "# test 4\n",
    "x_train4_cropped = np.array(x_train)[:,800:1200]\n",
    "x_test4_cropped = np.array(x_test)[:,800:1200]\n",
    "\n",
    "m4 = KnnDtw(n_neighbors=5, max_warping_window=150)\n",
    "m4.fit(np.array(x_train4_cropped), np.array(y_train))\n",
    "label4, proba4 = m4.predict(np.array(x_test4_cropped))\n",
    "print(classification_report(y_test,label4))\n",
    "print(confusion_matrix(y_test, label4))"
   ]
  },
  {
   "cell_type": "code",
   "execution_count": null,
   "id": "59e037f3",
   "metadata": {},
   "outputs": [],
   "source": []
  },
  {
   "cell_type": "code",
   "execution_count": null,
   "id": "dcfe2e42",
   "metadata": {
    "scrolled": true
   },
   "outputs": [],
   "source": [
    "# test 5\n",
    "x_train5_cropped = np.array(x_train)[:,800:1200]\n",
    "x_test5_cropped = np.array(x_test)[:,800:1200]\n",
    "\n",
    "m5 = KnnDtw(n_neighbors=5, max_warping_window=50)\n",
    "m5.fit(np.array(x_train5_cropped), np.array(y_train))\n",
    "label5, proba5 = m5.predict(np.array(x_test5_cropped))\n",
    "print(classification_report(y_test,label5))\n",
    "print(confusion_matrix(y_test, label5))"
   ]
  },
  {
   "cell_type": "code",
   "execution_count": null,
   "id": "7770330b",
   "metadata": {},
   "outputs": [],
   "source": []
  },
  {
   "cell_type": "code",
   "execution_count": null,
   "id": "64388eb1",
   "metadata": {
    "scrolled": true
   },
   "outputs": [],
   "source": [
    "# test 6\n",
    "x_train6_cropped = np.array(x_train)[:,800:1200]\n",
    "x_test6_cropped = np.array(x_test)[:,800:1200]\n",
    "\n",
    "m6 = KnnDtw(n_neighbors=5, max_warping_window=30)\n",
    "m6.fit(np.array(x_train6_cropped), np.array(y_train))\n",
    "label6, proba6 = m6.predict(np.array(x_test6_cropped))\n",
    "print(classification_report(y_test,label6))\n",
    "print(confusion_matrix(y_test, label6))"
   ]
  },
  {
   "cell_type": "code",
   "execution_count": null,
   "id": "91e017d9",
   "metadata": {},
   "outputs": [],
   "source": []
  },
  {
   "cell_type": "code",
   "execution_count": null,
   "id": "51c3f100",
   "metadata": {
    "scrolled": true
   },
   "outputs": [],
   "source": [
    "# test 7\n",
    "x_train7_cropped = np.array(x_train)[:,850:1150]\n",
    "x_test7_cropped = np.array(x_test)[:,850:1150]\n",
    "\n",
    "m7 = KnnDtw(n_neighbors=5, max_warping_window=30)\n",
    "m7.fit(np.array(x_train7_cropped), np.array(y_train))\n",
    "label7, proba7 = m7.predict(np.array(x_test7_cropped))\n",
    "print(classification_report(y_test,label7))\n",
    "print(confusion_matrix(y_test, label7))"
   ]
  },
  {
   "cell_type": "code",
   "execution_count": null,
   "id": "65302d65",
   "metadata": {},
   "outputs": [],
   "source": []
  },
  {
   "cell_type": "code",
   "execution_count": null,
   "id": "464b2afd",
   "metadata": {
    "scrolled": true
   },
   "outputs": [],
   "source": [
    "# test 8\n",
    "x_train8_cropped = np.array(x_train)[:,800:1200]\n",
    "x_test8_cropped = np.array(x_test)[:,800:1200]\n",
    "\n",
    "m8 = KnnDtw(n_neighbors=5, max_warping_window=40)\n",
    "m8.fit(np.array(x_train8_cropped), np.array(y_train))\n",
    "label8, proba8 = m8.predict(np.array(x_test8_cropped))\n",
    "print(classification_report(y_test,label8))\n",
    "print(confusion_matrix(y_test, label8))"
   ]
  },
  {
   "cell_type": "code",
   "execution_count": null,
   "id": "24290144",
   "metadata": {
    "scrolled": true
   },
   "outputs": [],
   "source": [
    "temp_trial_no = 0\n",
    "for i in np.where(label8==0)[0]:\n",
    "    if bool(y_test[i]):\n",
    "        temp_trial_no = temp_trial_no+1\n",
    "        fig, (ax1) = plt.subplots(1, 1, figsize=(16, 6), sharex=True, sharey=True)\n",
    "\n",
    "        plt.plot(x_test[i],linewidth = 3,c = 'b')\n",
    "        x1 = np.arange(900,1000)\n",
    "        plt.fill_between(x1,2,-2,linewidth = 1,color = 'lightcoral',alpha = 0.2)\n",
    "        plt.ylim(0,2)\n",
    "        plt.axhline(y = 0.8,xmin = 0, xmax =1 , alpha = 0.4)\n",
    "        plt.xticks([0,900,1000,1100,1200,1300])  # Set label locations.\n",
    "        plt.ylabel('Normalized Heart Rate')\n",
    "        plt.xlabel('frame')\n",
    "        plt.title(str(not bool(y_test[i]))+' Trial')\n",
    "        plt.show()\n",
    "print('FN trials, in total '+str(temp_trial_no)+' trials')"
   ]
  },
  {
   "cell_type": "code",
   "execution_count": null,
   "id": "afa058be",
   "metadata": {
    "scrolled": true
   },
   "outputs": [],
   "source": [
    "temp_trial_no = 0\n",
    "for i in np.where(label8==1)[0]:\n",
    "    if not bool(y_test[i]):\n",
    "        temp_trial_no = temp_trial_no+1\n",
    "        fig, (ax1) = plt.subplots(1, 1, figsize=(16, 6), sharex=True, sharey=True)\n",
    "\n",
    "        plt.plot(x_test[i],linewidth = 3,c = 'b')\n",
    "        x1 = np.arange(900,1000)\n",
    "        plt.fill_between(x1,2,-2,linewidth = 1,color = 'lightcoral',alpha = 0.2)\n",
    "        plt.ylim(0,2)\n",
    "        plt.axhline(y = 0.8,xmin = 0, xmax =1 , alpha = 0.4)\n",
    "        plt.xticks([0,900,1000,1100,1200,1300])  # Set label locations.\n",
    "        plt.ylabel('Normalized Heart Rate')\n",
    "        plt.xlabel('frame')\n",
    "        plt.title(str(bool(y_test[i]))+' Trial')\n",
    "        plt.show()\n",
    "print('FP trials, in total '+str(temp_trial_no)+' trials')"
   ]
  },
  {
   "cell_type": "code",
   "execution_count": null,
   "id": "dd2a9d67",
   "metadata": {},
   "outputs": [],
   "source": []
  },
  {
   "cell_type": "code",
   "execution_count": null,
   "id": "23a7e3b3",
   "metadata": {
    "scrolled": true
   },
   "outputs": [],
   "source": [
    "list_f1score8,list_accuracy8 = cv_knndtw(np.array(X)[:,800:1200],np.array(Y),n_neighbors0=5, max_warping_window0=40,k=5,repeats=2)"
   ]
  },
  {
   "cell_type": "code",
   "execution_count": null,
   "id": "4c72a38b",
   "metadata": {},
   "outputs": [],
   "source": [
    "print('Accuracy: %.3f (%.3f)' % (mean(list_accuracy8), std(list_accuracy8)))\n",
    "print('f1: %.3f (%.3f)' % (mean(list_f1score8), std(list_f1score8)))"
   ]
  },
  {
   "cell_type": "code",
   "execution_count": null,
   "id": "778dd9b7",
   "metadata": {},
   "outputs": [],
   "source": [
    "list_accuracy8"
   ]
  },
  {
   "cell_type": "code",
   "execution_count": null,
   "id": "9d944c3c",
   "metadata": {},
   "outputs": [],
   "source": [
    "list_f1score8"
   ]
  },
  {
   "cell_type": "code",
   "execution_count": null,
   "id": "1a4f43bd",
   "metadata": {},
   "outputs": [],
   "source": [
    "list_f1score8,list_accuracy8 = cv_knndtw(np.array(X)[:,800:1200],np.array(Y),n_neighbors0=5, max_warping_window0=40,k=10,repeats=1)\n",
    "print('Accuracy: %.3f (%.3f)' % (mean(list_accuracy8), std(list_accuracy8)))\n",
    "print('f1: %.3f (%.3f)' % (mean(list_f1score8), std(list_f1score8)))"
   ]
  },
  {
   "cell_type": "code",
   "execution_count": null,
   "id": "e74e841b",
   "metadata": {},
   "outputs": [],
   "source": []
  },
  {
   "cell_type": "code",
   "execution_count": null,
   "id": "013bec5a",
   "metadata": {
    "scrolled": true
   },
   "outputs": [],
   "source": [
    "# test 9\n",
    "x_train9_cropped = np.array(x_train)[:,850:1150]\n",
    "x_test9_cropped = np.array(x_test)[:,850:1150]\n",
    "\n",
    "m9 = KnnDtw(n_neighbors=5, max_warping_window=40)\n",
    "m9.fit(np.array(x_train9_cropped), np.array(y_train))\n",
    "label9, proba9 = m9.predict(np.array(x_test9_cropped))\n",
    "print(classification_report(y_test,label9))\n",
    "print(confusion_matrix(y_test, label9))"
   ]
  },
  {
   "cell_type": "code",
   "execution_count": null,
   "id": "64ff1ea9",
   "metadata": {},
   "outputs": [],
   "source": []
  },
  {
   "cell_type": "code",
   "execution_count": null,
   "id": "60fe6d7d",
   "metadata": {
    "scrolled": true
   },
   "outputs": [],
   "source": [
    "# test 10\n",
    "x_train10_cropped = np.array(x_train)[:,800:1200]\n",
    "x_test10_cropped = np.array(x_test)[:,800:1200]\n",
    "\n",
    "m10 = KnnDtw(n_neighbors=7, max_warping_window=40)\n",
    "m10.fit(np.array(x_train10_cropped), np.array(y_train))\n",
    "label10, proba10 = m10.predict(np.array(x_test10_cropped))\n",
    "print(classification_report(y_test,label10))\n",
    "print(confusion_matrix(y_test, label10))"
   ]
  },
  {
   "cell_type": "code",
   "execution_count": null,
   "id": "4e342b79",
   "metadata": {
    "scrolled": true
   },
   "outputs": [],
   "source": [
    "##### main classifier in the jupyter notebook\n",
    "list_f1score10,list_accuracy10 = cv_knndtw(np.array(X)[:,800:1200],np.array(Y),n_neighbors0=7, max_warping_window0=40,k=10,repeats=1)\n",
    "print('Accuracy: %.3f (%.3f)' % (mean(list_accuracy10), std(list_accuracy10)))\n",
    "print('f1: %.3f (%.3f)' % (mean(list_f1score10), std(list_f1score10)))\n",
    "########"
   ]
  },
  {
   "cell_type": "code",
   "execution_count": null,
   "id": "a8c7ac20",
   "metadata": {},
   "outputs": [],
   "source": [
    "list_f1score10_1,list_accuracy10_1 = cv_knndtw(np.array(X)[:,800:1200],np.array(Y),n_neighbors0=1, max_warping_window0=40,k=10,repeats=3)\n",
    "print('Accuracy: %.3f (%.3f)' % (mean(list_accuracy10_1), std(list_accuracy10_1)))\n",
    "print('f1: %.3f (%.3f)' % (mean(list_f1score10_1), std(list_f1score10_1)))"
   ]
  },
  {
   "cell_type": "code",
   "execution_count": null,
   "id": "b793a98d",
   "metadata": {},
   "outputs": [],
   "source": []
  },
  {
   "cell_type": "code",
   "execution_count": null,
   "id": "a305bca5",
   "metadata": {
    "scrolled": true
   },
   "outputs": [],
   "source": [
    "# test 11\n",
    "x_train11_cropped = np.array(x_train)[:,800:1200]\n",
    "x_test11_cropped = np.array(x_test)[:,800:1200]\n",
    "\n",
    "m11 = KnnDtw(n_neighbors=9, max_warping_window=40)\n",
    "m11.fit(np.array(x_train11_cropped), np.array(y_train))\n",
    "label11, proba11 = m11.predict(np.array(x_test11_cropped))\n",
    "print(classification_report(y_test,label11))\n",
    "print(confusion_matrix(y_test, label11))"
   ]
  },
  {
   "cell_type": "code",
   "execution_count": null,
   "id": "a588ba04",
   "metadata": {},
   "outputs": [],
   "source": []
  },
  {
   "cell_type": "code",
   "execution_count": null,
   "id": "10c6dc48",
   "metadata": {
    "scrolled": true
   },
   "outputs": [],
   "source": [
    "# test 12\n",
    "# try normalize x \n",
    "x_train12_cropped = np.array(x_train)[:,800:1200]\n",
    "x_test12_cropped = np.array(x_test)[:,800:1200]\n",
    "\n",
    "for i in range(0,x_train12_cropped.shape[0]):\n",
    "    temp_x = x_train12_cropped[i,:]\n",
    "    temp_x = (temp_x-np.min(temp_x))/(np.max(temp_x)-np.min(temp_x))\n",
    "    x_train12_cropped[i,:] = temp_x\n",
    "for i in range(0,x_test12_cropped.shape[0]):\n",
    "    temp_x = x_test12_cropped[i,:]\n",
    "    temp_x = (temp_x-np.min(temp_x))/(np.max(temp_x)-np.min(temp_x))\n",
    "    x_test12_cropped[i,:] = temp_x\n",
    "    \n",
    "\n",
    "\n",
    "m12 = KnnDtw(n_neighbors=5, max_warping_window=40)\n",
    "m12.fit(np.array(x_train12_cropped), np.array(y_train))\n",
    "label12, proba12 = m12.predict(np.array(x_test12_cropped))\n",
    "print(classification_report(y_test,label12))\n",
    "print(confusion_matrix(y_test, label12))"
   ]
  },
  {
   "cell_type": "code",
   "execution_count": null,
   "id": "dc9fbebf",
   "metadata": {
    "scrolled": true
   },
   "outputs": [],
   "source": [
    "# test 13\n",
    "# try normalize x \n",
    "x_train13_cropped = np.array(x_train)[:,850:1200]\n",
    "x_test13_cropped = np.array(x_test)[:,850:1200]\n",
    "\n",
    "for i in range(0,x_train13_cropped.shape[0]):\n",
    "    temp_x = x_train13_cropped[i,:]\n",
    "    temp_x = (temp_x-np.min(temp_x))/(np.max(temp_x)-np.min(temp_x))\n",
    "    x_train13_cropped[i,:] = temp_x\n",
    "for i in range(0,x_test13_cropped.shape[0]):\n",
    "    temp_x = x_test13_cropped[i,:]\n",
    "    temp_x = (temp_x-np.min(temp_x))/(np.max(temp_x)-np.min(temp_x))\n",
    "    x_test13_cropped[i,:] = temp_x\n",
    "    \n",
    "\n",
    "\n",
    "m13 = KnnDtw(n_neighbors=5, max_warping_window=40)\n",
    "m13.fit(np.array(x_train13_cropped), np.array(y_train))\n",
    "label13, proba13 = m13.predict(np.array(x_test13_cropped))\n",
    "print(classification_report(y_test,label13))\n",
    "print(confusion_matrix(y_test, label13))"
   ]
  },
  {
   "cell_type": "code",
   "execution_count": null,
   "id": "d996772c",
   "metadata": {},
   "outputs": [],
   "source": [
    "1"
   ]
  },
  {
   "cell_type": "code",
   "execution_count": null,
   "id": "50a36de8",
   "metadata": {
    "scrolled": true
   },
   "outputs": [],
   "source": [
    "# test 14\n",
    "x_train14_cropped = np.array(x_train)[:,800:1200]\n",
    "x_test14_cropped = np.array(x_test)[:,800:1200]\n",
    "\n",
    "for i in range(0,x_train14_cropped.shape[0]):\n",
    "    temp_x = x_train14_cropped[i,:]\n",
    "    temp_x = (temp_x-np.min(temp_x))/(np.max(temp_x)-np.min(temp_x))\n",
    "    x_train14_cropped[i,:] = temp_x\n",
    "for i in range(0,x_test14_cropped.shape[0]):\n",
    "    temp_x = x_test14_cropped[i,:]\n",
    "    temp_x = (temp_x-np.min(temp_x))/(np.max(temp_x)-np.min(temp_x))\n",
    "    x_test14_cropped[i,:] = temp_x\n",
    "    \n",
    "\n",
    "\n",
    "m14 = KnnDtw(n_neighbors=7, max_warping_window=40)\n",
    "m14.fit(np.array(x_train14_cropped), np.array(y_train))\n",
    "label14, proba14 = m14.predict(np.array(x_test14_cropped))\n",
    "print(classification_report(y_test,label14))\n",
    "print(confusion_matrix(y_test, label14))"
   ]
  },
  {
   "cell_type": "code",
   "execution_count": null,
   "id": "53a68bc5",
   "metadata": {},
   "outputs": [],
   "source": [
    "X14 = np.array(X)[:,800:1200]\n",
    "Y14 = np.array(Y)\n",
    "\n",
    "for i in range(0,X14.shape[0]):\n",
    "    temp_x = X14[i,:]\n",
    "    temp_x = (temp_x-np.min(temp_x))/(np.max(temp_x)-np.min(temp_x))\n",
    "    X14[i,:] = temp_x\n",
    "\n",
    "list_f1score14,list_accuracy14 = cv_knndtw(X14,Y14,n_neighbors0=7, max_warping_window0=40,k=5,repeats=3)\n",
    "\n",
    "print('Accuracy: %.3f (%.3f)' % (mean(list_accuracy14), std(list_accuracy14)))\n",
    "print('f1: %.3f (%.3f)' % (mean(list_f1score14), std(list_f1score14)))"
   ]
  },
  {
   "cell_type": "code",
   "execution_count": null,
   "id": "bafcaf48",
   "metadata": {},
   "outputs": [],
   "source": [
    "X14 = np.array(X)[:,800:1200]\n",
    "Y14 = np.array(Y)\n",
    "\n",
    "for i in range(0,X14.shape[0]):\n",
    "    temp_x = X14[i,:]\n",
    "    temp_x = (temp_x-np.min(temp_x))/(np.max(temp_x)-np.min(temp_x))\n",
    "    X14[i,:] = temp_x\n",
    "\n",
    "list_f1score14,list_accuracy14 = cv_knndtw(X14,Y14,n_neighbors0=7, max_warping_window0=40,k=10,repeats=3)\n",
    "\n",
    "print('Accuracy: %.3f (%.3f)' % (mean(list_accuracy14), std(list_accuracy14)))\n",
    "print('f1: %.3f (%.3f)' % (mean(list_f1score14), std(list_f1score14)))"
   ]
  },
  {
   "cell_type": "code",
   "execution_count": null,
   "id": "eb80beaa",
   "metadata": {},
   "outputs": [],
   "source": []
  },
  {
   "cell_type": "code",
   "execution_count": null,
   "id": "43ade92c",
   "metadata": {},
   "outputs": [],
   "source": [
    "# TEST CLF8 AND CLF14 in low elevation day1\n",
    "\n",
    "main_dir = 'F:\\\\LCr_UV_HSA_Lum_Low_1\\\\'\n",
    "heart_list = glob.glob(main_dir+'\\\\*\\\\behavior\\\\*\\\\Bradyinfo*new.xlsx')\n",
    "\n",
    "trace_list = []\n",
    "brady_list = []\n",
    "\n",
    "for heart in heart_list:\n",
    "    trace = pd.read_excel(heart,sheet_name = 'heart_rate_trace')\n",
    "    Brady_info = pd.read_excel(heart,sheet_name = 'Bradyinfo')\n",
    "    \n",
    "    for t in range(0,Brady_info.shape[0]):\n",
    "        if Brady_info.Video_Quality[t] == True:\n",
    "            temp_trace = trace.iloc[t,:]/np.mean(trace.iloc[t,300:899])\n",
    "            \n",
    "            trace_list.append(temp_trace)\n",
    "            \n",
    "            brady_list.append(int(Brady_info.Manual_Annotation[t]))\n",
    "\n",
    "np_trace = np.array(trace_list)[:,800:1200]\n",
    "np_brady = np.array(brady_list)"
   ]
  },
  {
   "cell_type": "code",
   "execution_count": null,
   "id": "97414c7e",
   "metadata": {
    "scrolled": true
   },
   "outputs": [],
   "source": [
    "# CLF8\n",
    "X8 = np.array(X)[:,800:1200]\n",
    "Y8 = np.array(Y)\n",
    "\n",
    "m8 = KnnDtw(n_neighbors=5, max_warping_window=40)\n",
    "m8.fit(X8, Y8)\n",
    "\n",
    "\n",
    "label8_lowelev, proba8_lowelev = m8.predict(np_trace)\n",
    "print(classification_report(np_brady,label8_lowelev))\n",
    "print(confusion_matrix(np_brady, label8_lowelev))"
   ]
  },
  {
   "cell_type": "code",
   "execution_count": null,
   "id": "d65b3238",
   "metadata": {},
   "outputs": [],
   "source": []
  },
  {
   "cell_type": "code",
   "execution_count": null,
   "id": "b0da09c6",
   "metadata": {
    "scrolled": true
   },
   "outputs": [],
   "source": [
    "# CLF10\n",
    "X10 = np.array(X)[:,800:1200]\n",
    "Y10 = np.array(Y)\n",
    "\n",
    "m10 = KnnDtw(n_neighbors=7, max_warping_window=40)\n",
    "m10.fit(X10, Y10)\n",
    "\n",
    "\n",
    "label10_lowelev, proba10_lowelev = m10.predict(np_trace)\n",
    "print(classification_report(np_brady,label10_lowelev))\n",
    "print(confusion_matrix(np_brady, label10_lowelev))"
   ]
  },
  {
   "cell_type": "code",
   "execution_count": null,
   "id": "867c33e1",
   "metadata": {},
   "outputs": [],
   "source": [
    "print(accuracy_score(np_brady, label10_lowelev))\n",
    "print(f1_score(np_brady, label10_lowelev, average='weighted'))"
   ]
  },
  {
   "cell_type": "code",
   "execution_count": null,
   "id": "3fa52ae2",
   "metadata": {},
   "outputs": [],
   "source": [
    "# CLF10_1\n",
    "X10_1 = np.array(X)[:,800:1200]\n",
    "Y10_1 = np.array(Y)\n",
    "\n",
    "m10_1 = KnnDtw(n_neighbors=1, max_warping_window=40)\n",
    "m10_1.fit(X10_1, Y10_1)\n",
    "\n",
    "\n",
    "label10_1_lowelev, proba10_1_lowelev = m10_1.predict(np_trace)\n",
    "print(classification_report(np_brady,label10_1_lowelev))\n",
    "print(confusion_matrix(np_brady, label10_1_lowelev))"
   ]
  },
  {
   "cell_type": "code",
   "execution_count": null,
   "id": "d0295f2d",
   "metadata": {},
   "outputs": [],
   "source": []
  },
  {
   "cell_type": "code",
   "execution_count": null,
   "id": "8499ae81",
   "metadata": {},
   "outputs": [],
   "source": []
  },
  {
   "cell_type": "code",
   "execution_count": null,
   "id": "a3d8b262",
   "metadata": {},
   "outputs": [],
   "source": [
    "temp_trial_no = 0\n",
    "for i in np.where(label10_lowelev==0)[0]:\n",
    "    if bool(np_brady[i]):\n",
    "        temp_trial_no = temp_trial_no+1\n",
    "        fig, (ax1) = plt.subplots(1, 1, figsize=(16, 6), sharex=True, sharey=True)\n",
    "\n",
    "        plt.plot(trace_list[i],linewidth = 3,c = 'b')\n",
    "        x1 = np.arange(900,1000)\n",
    "        plt.fill_between(x1,2,-2,linewidth = 1,color = 'lightcoral',alpha = 0.2)\n",
    "        plt.ylim(0,2)\n",
    "        plt.axhline(y = 0.8,xmin = 0, xmax =1 , alpha = 0.4)\n",
    "        plt.xticks([0,900,1000,1100,1200,1300])  # Set label locations.\n",
    "        plt.ylabel('Normalized Heart Rate')\n",
    "        plt.xlabel('frame')\n",
    "        plt.title(str(not bool(np_brady[i]))+' Trial')\n",
    "        plt.show()\n",
    "print('FN trials, in total '+str(temp_trial_no)+' trials')"
   ]
  },
  {
   "cell_type": "code",
   "execution_count": null,
   "id": "e0e4f038",
   "metadata": {},
   "outputs": [],
   "source": [
    "temp_trial_no = 0\n",
    "for i in np.where(label10_lowelev==1)[0]:\n",
    "    if not bool(np_brady[i]):\n",
    "        temp_trial_no = temp_trial_no+1\n",
    "        fig, (ax1) = plt.subplots(1, 1, figsize=(16, 6), sharex=True, sharey=True)\n",
    "\n",
    "        plt.plot(trace_list[i],linewidth = 3,c = 'b')\n",
    "        x1 = np.arange(900,1000)\n",
    "        plt.fill_between(x1,2,-2,linewidth = 1,color = 'lightcoral',alpha = 0.2)\n",
    "        plt.ylim(0,2)\n",
    "        plt.axhline(y = 0.8,xmin = 0, xmax =1 , alpha = 0.4)\n",
    "        plt.xticks([0,900,1000,1100,1200,1300])  # Set label locations.\n",
    "        plt.ylabel('Normalized Heart Rate')\n",
    "        plt.xlabel('frame')\n",
    "        plt.title(str(bool(np_brady[i]))+' Trial')\n",
    "        plt.show()\n",
    "print('FP trials, in total '+str(temp_trial_no)+' trials')"
   ]
  },
  {
   "cell_type": "code",
   "execution_count": null,
   "id": "e38c8fcd",
   "metadata": {},
   "outputs": [],
   "source": []
  },
  {
   "cell_type": "code",
   "execution_count": null,
   "id": "bbd998cb",
   "metadata": {},
   "outputs": [],
   "source": [
    "# CLF14\n",
    "X14 = np.array(X)[:,800:1200]\n",
    "Y14 = np.array(Y)\n",
    "\n",
    "for i in range(0,X14.shape[0]):\n",
    "    temp_x = X14[i,:]\n",
    "    temp_x = (temp_x-np.min(temp_x))/(np.max(temp_x)-np.min(temp_x))\n",
    "    X14[i,:] = temp_x\n",
    "    \n",
    "m14 = KnnDtw(n_neighbors=7, max_warping_window=40)\n",
    "m14.fit(X14, Y14)\n",
    "label14_lowelev, proba14_lowelev= m14.predict(np_trace)\n",
    "print(classification_report(np_brady,label14_lowelev))\n",
    "print(confusion_matrix(np_brady,label14_lowelev))"
   ]
  },
  {
   "cell_type": "code",
   "execution_count": null,
   "id": "4a19761f",
   "metadata": {},
   "outputs": [],
   "source": [
    "X8 = np.array(X)[:,800:1200]"
   ]
  },
  {
   "cell_type": "code",
   "execution_count": null,
   "id": "f4efeb13",
   "metadata": {},
   "outputs": [],
   "source": [
    "X8"
   ]
  },
  {
   "cell_type": "code",
   "execution_count": null,
   "id": "db9f199e",
   "metadata": {},
   "outputs": [],
   "source": [
    "X14"
   ]
  },
  {
   "cell_type": "code",
   "execution_count": null,
   "id": "a548890d",
   "metadata": {},
   "outputs": [],
   "source": []
  },
  {
   "cell_type": "code",
   "execution_count": null,
   "id": "a2d92ef9",
   "metadata": {},
   "outputs": [],
   "source": []
  },
  {
   "cell_type": "code",
   "execution_count": null,
   "id": "4a1d74d1",
   "metadata": {},
   "outputs": [],
   "source": [
    "# low elev2 blind test\n",
    "import random\n",
    "import shutil\n",
    "\n",
    "main_dir = 'F:\\\\LCr_UV_HSA_Lum_Low_2\\\\'\n",
    "\n",
    "bradyinfo_list = glob.glob(main_dir+'*\\\\behavior\\\\*\\\\Bradyinfo*.xlsx')\n",
    "\n",
    "df_sampling_result = pd.DataFrame(columns = ['video_idx','Bradycardia_auto','threh_4perc'])\n",
    "df_sampling_result['video_idx'] = range(0,80)\n",
    "video_idx = 0\n",
    "\n",
    "for bradyinfo_dir in bradyinfo_list:\n",
    "    Brady_info = pd.read_excel(bradyinfo_dir,sheet_name = 'Bradyinfo')\n",
    "    heart_trace = pd.read_excel(bradyinfo_dir,sheet_name = 'heart_rate_trace')\n",
    "    Brady_classification = Brady_info['Bradycardia_Classification']\n",
    "    Brady_1_idx = np.where(Brady_classification == 1)[0]\n",
    "    Brady_0_idx = np.where(Brady_classification == 0)[0]\n",
    "    if Brady_1_idx.shape[0]>3:\n",
    "        sample_idx = np.sort(random.sample(list(Brady_1_idx), 4)+random.sample(list(Brady_0_idx), 4))\n",
    "    else:\n",
    "        sample_idx = np.sort(random.sample(list(Brady_1_idx), Brady_1_idx.shape[0])+random.sample(list(Brady_0_idx), 8-Brady_1_idx.shape[0]))\n",
    "    for idx in sample_idx:\n",
    "        df_sampling_result['Bradycardia_auto'][video_idx] = Brady_classification[idx]\n",
    "        \n",
    "        \n",
    "        \n",
    "        temp_heart = heart_trace.iloc[idx,:]\n",
    "        temp_heart = temp_heart/np.mean(temp_heart[300:899])\n",
    "        \n",
    "        if np.min(temp_heart[900:1100])<0.96:\n",
    "            df_sampling_result['threh_4perc'][video_idx] = 1\n",
    "        else:\n",
    "            df_sampling_result['threh_4perc'][video_idx] = 0\n",
    "        \n",
    "        date = bradyinfo_dir.split('\\\\')[2]\n",
    "        fish = bradyinfo_dir.split('\\\\')[4]\n",
    "        source_path = bradyinfo_dir[:-32]+date+'_'+fish+'_heart_'+str(idx+1)+'.avi'\n",
    "        target_path = main_dir +'\\\\blind_test\\\\video_'+str(video_idx)+'.avi'\n",
    "        shutil.copyfile(source_path, target_path)\n",
    "        \n",
    "        fig, (ax1) = plt.subplots(1, 1, figsize=(16, 6))\n",
    "        ax1.grid(False)\n",
    "        plt.axis('off')\n",
    "        plt.plot(temp_heart,linewidth = 4,c = 'navy')\n",
    "        x1 = np.arange(900,1000)\n",
    "        plt.fill_between(x1,1.25,0.7,linewidth = 1,color = 'lightcoral',alpha = 0.2)\n",
    "        plt.ylim(0.5,1.5)\n",
    "        plt.yticks([0.5,0.75,1,1.25,1.5],fontsize = 22)\n",
    "#         plt.axhline(y = 0.8,xmin = 0, xmax =1 , alpha = 0.4)\n",
    "        plt.xticks([0,200,400,600,800,1000,1200])  # Set label locations.\n",
    "        ax1.set_xticklabels([0,2,4,6,8,10,12],fontsize = 22)\n",
    "        plt.ylabel('Normalized Heart Rate',fontsize = 24)\n",
    "        plt.xlabel('Seconds',fontsize = 24)\n",
    "#         plt.savefig(main_dir+'\\\\blind_test\\\\heart_rate_'+str(video_idx)+'.png')\n",
    "        plt.show()\n",
    "        \n",
    "        \n",
    "        \n",
    "        video_idx = video_idx+1"
   ]
  },
  {
   "cell_type": "code",
   "execution_count": null,
   "id": "b9d41fd4",
   "metadata": {},
   "outputs": [],
   "source": [
    "auto_csv = pd.read_csv('F:\\\\LCr_UV_HSA_Lum_Low_2\\\\blind_test\\\\blind_test_auto.csv')\n",
    "manual_csv = pd.read_csv('F:\\\\LCr_UV_HSA_Lum_Low_2\\\\blind_test\\\\blind_test_manual.csv')\n",
    "test_info = np.array(manual_csv['Bradycardia_manual'])\n",
    "KNN_label = np.array(auto_csv['Bradycardia_auto'])\n",
    "threshold4_label = np.array(auto_csv['threh_4perc'])\n",
    "\n"
   ]
  },
  {
   "cell_type": "code",
   "execution_count": null,
   "id": "5ad52fb3",
   "metadata": {},
   "outputs": [],
   "source": [
    "print(classification_report(test_info ,threshold4_label))\n",
    "print(confusion_matrix(test_info ,threshold4_label))"
   ]
  },
  {
   "cell_type": "code",
   "execution_count": null,
   "id": "fccf5871",
   "metadata": {},
   "outputs": [],
   "source": [
    "print(accuracy_score(test_info ,threshold4_label))\n",
    "print(f1_score(test_info ,threshold4_label, average='weighted'))"
   ]
  },
  {
   "cell_type": "code",
   "execution_count": null,
   "id": "ae8f5b88",
   "metadata": {},
   "outputs": [],
   "source": [
    "print(classification_report(test_info ,KNN_label))\n",
    "print(confusion_matrix(test_info ,KNN_label))"
   ]
  },
  {
   "cell_type": "code",
   "execution_count": null,
   "id": "84ae8292",
   "metadata": {},
   "outputs": [],
   "source": [
    "print(accuracy_score(test_info ,KNN_label))\n",
    "print(f1_score(test_info ,KNN_label, average='weighted'))"
   ]
  },
  {
   "cell_type": "code",
   "execution_count": null,
   "id": "ab6561b9",
   "metadata": {},
   "outputs": [],
   "source": [
    "conf_matrix = np.array([[0.82, 0.18 ], [ 0.06, 0.94]])\n",
    "\n",
    "fig, ax = plt.subplots(figsize=(5.8, 5.8),dpi =800)\n",
    "ax.matshow(conf_matrix, cmap=plt.cm.Blues, alpha=0.4)\n",
    "\n",
    "ax.text(x=0, y=0,s='TPR: 82%', va='center', ha='center', size=22)\n",
    "ax.text(x=0, y=1,s='FPR: 6%', va='center', ha='center', size=22)\n",
    "ax.text(x=1, y=0,s='FNR: 18%', va='center', ha='center', size=22)\n",
    "ax.text(x=1, y=1,s='TNR: 94%', va='center', ha='center', size=22)\n",
    "\n",
    "plt.xticks([0,1],['Bradycardia','Non-Bradycardia'],fontsize = 20)\n",
    "plt.yticks([0,1],['Bradycardia','Non-Bradycardia'],rotation = 90,va = 'center',fontsize = 20)\n",
    "plt.grid(False)\n",
    "ax.tick_params(axis=u'both', which=u'both',length=0)\n",
    "plt.xlabel('Predictions', fontsize=22)\n",
    "ax.xaxis.set_label_position('top') \n",
    "plt.ylabel('Actuals', fontsize=22)\n",
    "# plt.title('Confusion Matrix', fontsize=18)\n",
    "plt.show()"
   ]
  },
  {
   "cell_type": "code",
   "execution_count": null,
   "id": "2fd6039a",
   "metadata": {},
   "outputs": [],
   "source": []
  },
  {
   "cell_type": "code",
   "execution_count": null,
   "id": "710e48af",
   "metadata": {},
   "outputs": [],
   "source": []
  },
  {
   "cell_type": "code",
   "execution_count": null,
   "id": "ac397c22",
   "metadata": {},
   "outputs": [],
   "source": []
  },
  {
   "cell_type": "code",
   "execution_count": null,
   "id": "28a2111a",
   "metadata": {},
   "outputs": [],
   "source": []
  },
  {
   "cell_type": "code",
   "execution_count": null,
   "id": "fba23a9b",
   "metadata": {},
   "outputs": [],
   "source": []
  },
  {
   "cell_type": "code",
   "execution_count": null,
   "id": "3e4c639a",
   "metadata": {},
   "outputs": [],
   "source": []
  },
  {
   "cell_type": "code",
   "execution_count": null,
   "id": "ef311481",
   "metadata": {},
   "outputs": [],
   "source": []
  },
  {
   "cell_type": "code",
   "execution_count": null,
   "id": "863ee6b2",
   "metadata": {},
   "outputs": [],
   "source": [
    "import random\n",
    "np.sort(random.sample(list(Brady_1_idx), 4)+random.sample(list(Brady_0_idx), 4))"
   ]
  },
  {
   "cell_type": "code",
   "execution_count": null,
   "id": "5bdd2b41",
   "metadata": {},
   "outputs": [],
   "source": [
    "bradyinfo_dir[:-32]"
   ]
  },
  {
   "cell_type": "code",
   "execution_count": null,
   "id": "7bd05474",
   "metadata": {},
   "outputs": [],
   "source": []
  },
  {
   "cell_type": "code",
   "execution_count": null,
   "id": "2762076b",
   "metadata": {},
   "outputs": [],
   "source": []
  },
  {
   "cell_type": "code",
   "execution_count": null,
   "id": "c3e3f03d",
   "metadata": {},
   "outputs": [],
   "source": [
    "# draw the illustration\n",
    "X = np.load('training_set_X.npy')\n",
    "Y = np.load('training_set_Y.npy')"
   ]
  },
  {
   "cell_type": "code",
   "execution_count": null,
   "id": "4802d44c",
   "metadata": {},
   "outputs": [],
   "source": [
    "nonbrady_idx = np.where(Y ==0)[0][:3]\n",
    "brady_idx = np.where(Y ==1)[0][:3]"
   ]
  },
  {
   "cell_type": "code",
   "execution_count": null,
   "id": "b993238f",
   "metadata": {},
   "outputs": [],
   "source": [
    "for idx in list(nonbrady_idx)+list(brady_idx):\n",
    "    fig, (ax1) = plt.subplots(1, 1, figsize=(16, 6), sharex=True, sharey=True)\n",
    "\n",
    "    plt.plot(X[idx,:],linewidth = 3,c = 'b')\n",
    "    x1 = np.arange(900,1000)\n",
    "    plt.fill_between(x1,2,-2,linewidth = 1,color = 'lightcoral',alpha = 0.2)\n",
    "    plt.ylim(0,2)\n",
    "    #         plt.axhline(y = 0.8,xmin = 0, xmax =1 , alpha = 0.4)\n",
    "    plt.xticks([0,900,1000,1100,1200,1300])  # Set label locations.\n",
    "    plt.ylabel('Normalized Heart Rate')\n",
    "    plt.xlabel('frame')\n",
    "    plt.show()"
   ]
  },
  {
   "cell_type": "code",
   "execution_count": null,
   "id": "e839eb4d",
   "metadata": {},
   "outputs": [],
   "source": []
  }
 ],
 "metadata": {
  "kernelspec": {
   "display_name": "Python 3",
   "language": "python",
   "name": "python3"
  },
  "language_info": {
   "codemirror_mode": {
    "name": "ipython",
    "version": 3
   },
   "file_extension": ".py",
   "mimetype": "text/x-python",
   "name": "python",
   "nbconvert_exporter": "python",
   "pygments_lexer": "ipython3",
   "version": "3.9.5"
  }
 },
 "nbformat": 4,
 "nbformat_minor": 5
}
