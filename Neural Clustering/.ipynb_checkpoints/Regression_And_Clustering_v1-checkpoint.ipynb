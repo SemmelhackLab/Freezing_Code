{
 "cells": [
  {
   "cell_type": "markdown",
   "id": "45c9e0b5",
   "metadata": {},
   "source": [
    "# Organized Neuronal analysis \n",
    "##  Batch: Low Elevation dataset \n",
    "- fish line: hsa\n",
    "- Collected on 20230312/ 20230420/ 20230421\n",
    "\n",
    "## Version Description:\n",
    "\n",
    "\n",
    "## Content\n",
    "- Active neuron selection\n",
    "- VMV calculation\n",
    "- Hierachical Clustering in VMV correlation matrix\n",
    "- spatial p value filtering\n",
    "- Hierachical Clustering of neurons passed spatial p value filtering\n",
    "- Anatomical Representation of clusters of neurons\n"
   ]
  },
  {
   "cell_type": "code",
   "execution_count": null,
   "id": "6e9415ef",
   "metadata": {},
   "outputs": [],
   "source": []
  }
 ],
 "metadata": {
  "kernelspec": {
   "display_name": "Python 3",
   "language": "python",
   "name": "python3"
  },
  "language_info": {
   "codemirror_mode": {
    "name": "ipython",
    "version": 3
   },
   "file_extension": ".py",
   "mimetype": "text/x-python",
   "name": "python",
   "nbconvert_exporter": "python",
   "pygments_lexer": "ipython3",
   "version": "3.9.5"
  }
 },
 "nbformat": 4,
 "nbformat_minor": 5
}
