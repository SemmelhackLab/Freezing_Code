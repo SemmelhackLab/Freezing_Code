{
 "cells": [
  {
   "cell_type": "code",
   "execution_count": 3,
   "id": "b6df6083",
   "metadata": {},
   "outputs": [],
   "source": [
    "import tifffile\n",
    "import numpy as np\n",
    "import glob\n",
    "import matplotlib.pyplot as plt\n",
    "import seaborn as sns\n",
    "import pandas as pd\n",
    "import os\n",
    "import cv2\n",
    "import pickle\n",
    "import json\n",
    "import re\n",
    "from datetime import datetime\n",
    "from operator import itemgetter\n",
    "from itertools import groupby\n",
    "import csv\n",
    "from unidip import UniDip\n",
    "\n",
    "import scipy\n",
    "from scipy.signal import butter, filtfilt\n",
    "from scipy.ndimage import find_objects, gaussian_filter, label\n",
    "from skimage.filters import apply_hysteresis_threshold\n",
    "\n",
    "from sklearn import linear_model\n",
    "from sklearn.metrics import r2_score \n",
    "from sklearn.neighbors import KernelDensity\n",
    "\n",
    "\n",
    "from Brady_Ana_AIO_Functions import *\n",
    "\n",
    "\n",
    "plt.rcParams.update({'figure.max_open_warning': 0})"
   ]
  },
  {
   "cell_type": "markdown",
   "id": "1675a9f6",
   "metadata": {},
   "source": [
    "# 1. Heart Rate analysis"
   ]
  },
  {
   "cell_type": "markdown",
   "id": "2f7dc870",
   "metadata": {},
   "source": [
    "## 1.1 Draw ROIs in Fiji circling the entire heart\n",
    "## 1.2 Create Bradyinfo and get HR trace"
   ]
  },
  {
   "cell_type": "code",
   "execution_count": null,
   "id": "7ebfc198",
   "metadata": {},
   "outputs": [],
   "source": [
    "# Provide Batch name and ROI lists (write ROI in the sequence of the folders)\n",
    "batch = 'test_batch'\n",
    "date_list = glob.glob('F:/'+batch + '/*')\n",
    "fish_dir_list = []\n",
    "ROI_list = [[(369, 298, 117, 71)],\n",
    "            [(356, 346, 122, 118),(383, 336, 98, 70),(301, 316, 146, 84),(345, 303, 155, 93),\n",
    "             (371, 311, 116, 90),(345, 314, 130, 100)],\n",
    "            [(358, 349, 106, 77), (378, 334, 106, 85),(381, 336, 111, 79),(285, 303, 170, 69),\n",
    "             (336, 357, 157, 64),(371, 341, 127, 65),(422, 330, 101, 65)]]\n",
    "for date in date_list:\n",
    "    fish_dir_list.append(glob.glob(date + '/behavior/F*'))\n",
    "print(fish_dir_list)\n",
    "\n",
    "'run single fish'\n",
    "# create_brady_info_pixelwise(fish_dir_list[0][0]+'/',ROI_list[0][0])\n",
    "'run entire dataset'\n",
    "for date in range(0,len(fish_dir_list)):\n",
    "    for fish in range(0,len(fish_dir_list[date])):\n",
    "        create_brady_info_pixelwise(fish_dir_list[date][fish]+'/',ROI_list[date][fish])"
   ]
  },
  {
   "cell_type": "markdown",
   "id": "13fbdce7",
   "metadata": {},
   "source": [
    "## 1.3 HR to ceiling calculation and bradycardia identification"
   ]
  },
  {
   "cell_type": "code",
   "execution_count": null,
   "id": "8e7abb40",
   "metadata": {},
   "outputs": [],
   "source": [
    "median_window_len = 100\n",
    "max_window_len = 300\n",
    "\n",
    "main_dir = 'F:/'+batch\n",
    "bradyinfo_list = glob.glob(main_dir+'/*/behavior/*/Bradyinfo*')\n",
    "print(bradyinfo_list)\n",
    "\n",
    "'calculate HR to ceiling and write into bradyinfo'\n",
    "calculate_HR_to_ceiling(bradyinfo_list,median_window_len,max_window_len)\n",
    "\n",
    "'identify bradycardia episode for each fish and write into bradyinfo'\n",
    "identify_bradycardia(bradyinfo_list,3)\n"
   ]
  },
  {
   "cell_type": "markdown",
   "id": "f30234da",
   "metadata": {},
   "source": [
    "# 2. PC Detection"
   ]
  },
  {
   "cell_type": "markdown",
   "id": "9631ea8b",
   "metadata": {},
   "source": [
    "## 2.1 Use Ztrack to track the eye and tail angles\n",
    "## 2.2 Use eye angles of each fish to fit bimodal distribution and find threshold"
   ]
  },
  {
   "cell_type": "code",
   "execution_count": null,
   "id": "35e267a0",
   "metadata": {},
   "outputs": [],
   "source": [
    "# find all fish folders\n",
    "batch = 'test_batch'\n",
    "date_list = glob.glob('F:/'+batch + '/*')\n",
    "fish_dir_list = []\n",
    "Threshold_list = []\n",
    "\n",
    "for date in date_list:\n",
    "    fish_dir_list.append(glob.glob(date + '/behavior/F*'))\n",
    "print(fish_dir_list)\n",
    "\n",
    "#First check the bimodel distribution of eye angles and find a threshold\n",
    "for date in  range(0,len(fish_dir_list)):\n",
    "    for fish in range(0,len(fish_dir_list[date])):\n",
    "        eye_angle_df, threshold = get_bimodel_distribution(fish_dir_list[date][fish])\n",
    "        Threshold_list.append(threshold)\n",
    "print(Threshold_list)"
   ]
  },
  {
   "cell_type": "code",
   "execution_count": null,
   "id": "e33213db",
   "metadata": {},
   "outputs": [],
   "source": [
    "## the second step is to manually check all threshold and correct the wrong ones\n",
    "# Threshold_list = [[30,14,16],[17,12,19,8,15]]\n",
    "\n",
    "for date in range(0,len(fish_dir_list)):\n",
    "    for fish in range(0,len(fish_dir_list[date])):\n",
    "        bradyinfo_path = glob.glob(fish_dir_list[date][fish] + '/Brady*')\n",
    "        bradyinfo = pd.read_excel(bradyinfo_path[0])\n",
    "        heart_rate_dataframe= pd.read_excel(bradyinfo_path[0], sheet_name='heart_rate_trace')\n",
    "        HR_to_ceiling = pd.read_excel(bradyinfo_path[0],sheet_name = 'HR_to_ceiling')\n",
    "        threshold = Threshold_list[date][fish]\n",
    "        draw_threshold(fish_dir_list[date][fish],threshold,bandwidth = 2)\n",
    "        \n",
    "        bradyinfo['PC_Threshold'] = [threshold] * bradyinfo.shape[0]\n",
    "        \n",
    "        writer = pd.ExcelWriter(bradyinfo_path[0], engine='xlsxwriter')\n",
    "        bradyinfo.to_excel(writer, sheet_name='Bradyinfo',index = False)\n",
    "        heart_rate_dataframe.to_excel(writer, sheet_name='heart_rate_trace',index = False)\n",
    "        HR_to_ceiling.to_excel(writer, sheet_name='HR_to_ceiling',index = False)\n",
    "        writer.save()"
   ]
  },
  {
   "cell_type": "markdown",
   "id": "b6f1811c",
   "metadata": {},
   "source": [
    "## 2.3 Detect PC in each trials"
   ]
  },
  {
   "cell_type": "code",
   "execution_count": null,
   "id": "0a2a7d6e",
   "metadata": {},
   "outputs": [],
   "source": [
    "#the thrid step is to use threshold to find PC trials\n",
    "for date in  range(0,len(fish_dir_list)):\n",
    "    for fish in range(0,len(fish_dir_list[date])):\n",
    "        bradyinfo_path = glob.glob(fish_dir_list[date][fish] + '/Brady*')\n",
    "        bradyinfo = pd.read_excel(bradyinfo_path[0])\n",
    "        heart_rate_dataframe= pd.read_excel(bradyinfo_path[0], sheet_name='heart_rate_trace')\n",
    "        HR_to_ceiling = pd.read_excel(bradyinfo_path[0],sheet_name = 'HR_to_ceiling')\n",
    "        \n",
    "        PC_trial, PC_interval = get_pc_trial(fish_dir_list[date][fish],bradyinfo.PC_Threshold[0])\n",
    "        bradyinfo['Eye_Convergence_bouts'] = PC_interval\n",
    "    \n",
    "        #3.4 Store PC result in Bradyinfo\n",
    "        writer = pd.ExcelWriter(bradyinfo_path[0], engine='xlsxwriter')\n",
    "        bradyinfo.to_excel(writer, sheet_name='Bradyinfo',index = False)\n",
    "        heart_rate_dataframe.to_excel(writer, sheet_name='heart_rate_trace',index = False)\n",
    "        HR_to_ceiling.to_excel(writer, sheet_name='HR_to_ceiling',index = False)\n",
    "        \n",
    "        writer.save()\n",
    "        writer.close()"
   ]
  },
  {
   "cell_type": "markdown",
   "id": "feff17f7",
   "metadata": {},
   "source": [
    "# 3 Tail Curvature Calculation and Bout Detection, write into boutinfo"
   ]
  },
  {
   "cell_type": "code",
   "execution_count": null,
   "id": "1707a575",
   "metadata": {},
   "outputs": [],
   "source": [
    "# Provide Batch name\n",
    "batch = 'test_batch'\n",
    "date_list = glob.glob('F:/'+batch + '/*')\n",
    "fish_dir_list = []\n",
    "\n",
    "for date in date_list:\n",
    "    fish_dir_list.append(glob.glob(date + '/behavior/F*'))\n",
    "\n",
    "'run single fish'\n",
    "# Bout_Reader(fish_dir_list[0][0]+ '\\\\',duration=2200, low_thresh=0.01, high_thresh=0.2, sigma_angles=0, sigma=1, num_points=5,bout_sigma=0.5,bout_threshold=4)\n",
    "'run all fish not recommended'\n",
    "for date in range(0,len(fish_dir_list)):\n",
    "    for fish in range(0,len(fish_dir_list[date])):\n",
    "        \n",
    "        Bout_Reader(fish_dir_list[date][fish]+ '\\\\',duration=4400, low_thresh=0.008, high_thresh=0.04, sigma_angles=0, sigma=1, num_points=10,bout_sigma=1.2,bout_threshold=1)\n"
   ]
  },
  {
   "cell_type": "markdown",
   "id": "a01b3dc1",
   "metadata": {},
   "source": [
    "# 4 Escape Classification"
   ]
  },
  {
   "cell_type": "code",
   "execution_count": null,
   "id": "7930d6de",
   "metadata": {},
   "outputs": [],
   "source": [
    "# load clustering and pca model\n",
    "pca = pk.load(open('bout_clustering_pca.pkl','rb'))\n",
    "kmeans = pk.load(open('bout_clustering_kmeans.pkl','rb'))\n",
    "scaler = pk.load(open('bout_clustering_scaler.pkl','rb'))"
   ]
  },
  {
   "cell_type": "markdown",
   "id": "32f99395",
   "metadata": {},
   "source": [
    "## 4.1 identify escape bouts by PCA and k-means Clustering"
   ]
  },
  {
   "cell_type": "code",
   "execution_count": null,
   "id": "164284b7",
   "metadata": {},
   "outputs": [],
   "source": [
    "#collect all bouts and make a dataframe\n",
    "batch = 'test_batch'\n",
    "date_list = glob.glob('F:\\\\'+batch + '\\\\*')\n",
    "fish_dir_list = []\n",
    "\n",
    "for date in date_list:\n",
    "    fish_dir_list.append(glob.glob(date + '\\\\behavior\\\\F*'))\n",
    "print(fish_dir_list)\n",
    "\n",
    "bout_collection_df = pd.DataFrame()\n",
    "\n",
    "for date in range(0,len(fish_dir_list)):\n",
    "    # may need to be modified when directory name changed\n",
    "    date_no = fish_dir_list[date][0].split('\\\\')[-3]\n",
    "    for fish in range(0,len(fish_dir_list[date])):\n",
    "        # may need to be modified when directory name changed\n",
    "        fish_str = fish_dir_list[date][fish].split('\\\\')[-1]\n",
    "        print(date,fish)\n",
    "        #load info\n",
    "        vsinfo_dir = glob.glob(fish_dir_list[date][fish] + '/vsinfo*')\n",
    "        vsinfo = pd.read_excel(vsinfo_dir[0])\n",
    "        expinfo = pd.read_excel(vsinfo_dir[0], sheet_name='ExpInfo')\n",
    "        boutinfo_path = glob.glob(fish_dir_list[date][fish] + '/Boutsinfo*')\n",
    "        boutinfo = pd.read_excel(boutinfo_path[0],sheet_name = 'boutinfo')\n",
    "\n",
    "        #get all bouts\n",
    "        for t in range(0,boutinfo.shape[0]):\n",
    "            if vsinfo['Left_Stimulus_Type'][t]=='n' and vsinfo['Right_Stimulus_Type'][t]=='n':\n",
    "                temp_type = 'ns'\n",
    "            elif vsinfo['Left_Stimulus_Type'][t]=='l' or vsinfo['Right_Stimulus_Type'][t]=='l':\n",
    "                temp_type = 'looming'\n",
    "            elif vsinfo['Left_Color'][t]=='UV' or vsinfo['Right_Color'][t]=='UV':\n",
    "                temp_type = 'dot4'\n",
    "            elif vsinfo['Left_Stimulus_Size'][t]+vsinfo['Right_Stimulus_Size'][t]==15:\n",
    "                temp_type = 'dot15'   \n",
    "                \n",
    "            if len(eval(boutinfo.Swim_Bouts[t])) > 0:\n",
    "                for b in range(0,len(eval(boutinfo.Swim_Bouts[t]))):\n",
    "                    bout_collection_df = bout_collection_df.append({'Fish_Index': fish_str,\n",
    "                                               'Trial_Index': int(boutinfo['Trial'][t]),\n",
    "                                               'Trial_Type': temp_type,\n",
    "                                               'Swim_Bout': eval(boutinfo.Swim_Bouts[t])[b],\n",
    "                                               'Amplitude_Tip_Angle': eval(boutinfo.Swim_Bouts_Amplitude_Tip_Angle[t])[b],\n",
    "                                               'Amplitude_Middle_Angle': eval(boutinfo.Swim_Bouts_Amplitude_Middle_Angle[t])[b],\n",
    "                                               'Amplitude_Curvature': eval(boutinfo.Swim_Bouts_Amplitude_Curvature[t])[b],\n",
    "                                               'Avg_Velocity': eval(boutinfo.Swim_Bouts_Avg_Velocity[t])[b],\n",
    "                                               'Max_Velocity': eval(boutinfo.Swim_Bouts_Max_Velocity[t])[b],                                                                    \n",
    "                                               'Frequency': eval(boutinfo.Swim_Bouts_Frequency[t])[b],\n",
    "                                               'Time': eval(boutinfo.Swim_Bouts_Time[t])[b],                        \n",
    "                                               'Integral': eval(boutinfo.Swim_Bouts_Integral[t])[b],\n",
    "                                                'Date': date_no},ignore_index = True)               \n",
    "bout_collection_df['Log_Time'] = np.log10(bout_collection_df['Time'])\n",
    "bout_collection_df"
   ]
  },
  {
   "cell_type": "code",
   "execution_count": null,
   "id": "87c1c594",
   "metadata": {},
   "outputs": [],
   "source": [
    "df_feature = bout_collection_df.iloc[:,[0,1,2,3,6,7,8,13]]\n",
    "df_norm_feature = scaler.transform(df_feature)\n",
    "principalComponents = pca.transform(df_norm_feature)\n",
    "print(pca.explained_variance_ratio_)\n",
    "\n",
    "labels = kmeans.predict(principalComponents[:,:5])\n",
    "\n",
    "## Plots\n",
    "# fig, (ax1,ax2,ax3) = plt.subplots(1, 3, figsize=(16, 6))\n",
    "\n",
    "# scatter = ax1.scatter(principalComponents[:,0],principalComponents[:,1],c=labels)\n",
    "# ax1.set_xlabel('PC1',fontsize = 12)\n",
    "# ax1.set_ylabel('PC2',fontsize = 12)\n",
    "# legend1 = ax1.legend(*scatter.legend_elements(),\n",
    "#                     loc=\"lower left\")\n",
    "\n",
    "# ax2.scatter(principalComponents[:,0],principalComponents[:,2],c=labels)\n",
    "# ax2.set_xlabel('PC1',fontsize = 12)\n",
    "# ax2.set_ylabel('PC3',fontsize = 12)\n",
    "\n",
    "# ax3.scatter(principalComponents[:,1],principalComponents[:,2],c=labels)\n",
    "# ax3.set_xlabel('PC2',fontsize = 12)\n",
    "# ax3.set_ylabel('PC3',fontsize = 12)\n",
    "# ax3.legend()\n",
    "# plt.show()\n",
    "\n",
    "bout_collection_df['Label'] = labels\n",
    "\n",
    "writer = pd.ExcelWriter('F:\\\\'+batch+'\\\\all_bouts_info.xlsx', engine='xlsxwriter')\n",
    "bout_collection_df.to_excel(writer, index=False)\n",
    "writer.save()\n",
    "writer.close()"
   ]
  },
  {
   "cell_type": "markdown",
   "id": "84268acf",
   "metadata": {},
   "source": [
    "## 4.2 annotate escape bouts and and spontaneous bouts, and write into bradyinfo"
   ]
  },
  {
   "cell_type": "code",
   "execution_count": null,
   "id": "f7db9e6f",
   "metadata": {},
   "outputs": [],
   "source": [
    "main_dir = 'F:\\\\'+batch\n",
    "bradyinfo_list = glob.glob(main_dir+'/*/behavior/*/Bradyinfo*')\n",
    "bout_collection_df_dir = main_dir+'\\\\all_bouts_info.xlsx'\n",
    "bout_collection_df = pd.read_excel(bout_collection_df_dir)\n",
    "for bradyinfo_dir in bradyinfo_list:\n",
    "    fish = bradyinfo_dir.split('\\\\')[-2]\n",
    "    date = bradyinfo_dir.split('\\\\')[-4]\n",
    "    print(date+' '+fish)\n",
    "    bradyinfo = pd.read_excel(bradyinfo_dir,sheet_name = 'Bradyinfo')\n",
    "    bradyinfo['Escape_bouts'] = '[]'\n",
    "    bradyinfo['Spontaneous_bouts'] = '[]'\n",
    "    HR_to_ceiling = pd.read_excel(bradyinfo_dir,sheet_name = 'HR_to_ceiling')\n",
    "    heart_rate_trace = pd.read_excel(bradyinfo_dir,sheet_name = 'heart_rate_trace')\n",
    "    \n",
    "    bout_collection_df_fish = bout_collection_df[np.logical_and(bout_collection_df['Date']==int(date),bout_collection_df['Fish_Index']==fish)]\n",
    "    for t in range(0,bradyinfo.shape[0]):\n",
    "        temp_escape_bouts = []\n",
    "        temp_spon_bouts = []\n",
    "        trial_idx = t+1\n",
    "        bout_collection_df_fish_trial_escape = bout_collection_df_fish[np.logical_and(bout_collection_df_fish['Trial_Index']==trial_idx,bout_collection_df_fish['Label']==1)]\n",
    "        for swim_bout in bout_collection_df_fish_trial_escape.Swim_Bout:\n",
    "            temp_escape_bouts.append(eval(swim_bout))\n",
    "        bradyinfo['Escape_bouts'][t] = temp_escape_bouts\n",
    "        \n",
    "        bout_collection_df_fish_trial_spon = bout_collection_df_fish[np.logical_and(bout_collection_df_fish['Trial_Index']==trial_idx,bout_collection_df_fish['Label']!=1)]\n",
    "        for swim_bout in bout_collection_df_fish_trial_spon.Swim_Bout:\n",
    "            temp_spon_bouts.append(eval(swim_bout))\n",
    "        bradyinfo['Spontaneous_bouts'][t] = temp_spon_bouts\n",
    "    writer = pd.ExcelWriter(bradyinfo_dir, engine='xlsxwriter')\n",
    "    bradyinfo.to_excel(writer, sheet_name='Bradyinfo',index = False)\n",
    "    heart_rate_trace.to_excel(writer, sheet_name='heart_rate_trace',index = False)\n",
    "    HR_to_ceiling.to_excel(writer, sheet_name='HR_to_ceiling',index = False)\n",
    "    writer.save()\n",
    "    writer.close()  "
   ]
  }
 ],
 "metadata": {
  "kernelspec": {
   "display_name": "Python 3",
   "language": "python",
   "name": "python3"
  },
  "language_info": {
   "codemirror_mode": {
    "name": "ipython",
    "version": 3
   },
   "file_extension": ".py",
   "mimetype": "text/x-python",
   "name": "python",
   "nbconvert_exporter": "python",
   "pygments_lexer": "ipython3",
   "version": "3.9.5"
  }
 },
 "nbformat": 4,
 "nbformat_minor": 5
}
